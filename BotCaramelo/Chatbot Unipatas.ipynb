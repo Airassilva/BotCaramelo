{
 "cells": [
  {
   "cell_type": "code",
   "execution_count": 1,
   "id": "3a1a1053",
   "metadata": {},
   "outputs": [
    {
     "name": "stdout",
     "output_type": "stream",
     "text": [
      "✔ Download and installation successful\n",
      "You can now load the package via spacy.load('en_core_web_sm')\n"
     ]
    }
   ],
   "source": [
    "from chatterbot import ChatBot\n",
    "from chatterbot.trainers import ListTrainer\n",
    "\n",
    "# isso aqui só precisa para corrigir o bug\n",
    "from spacy.cli import download\n",
    "\n",
    "download(\"en_core_web_sm\")\n",
    "\n",
    "class ENGSM:\n",
    "    ISO_639_1 = 'en_core_web_sm'"
   ]
  },
  {
   "cell_type": "code",
   "execution_count": 2,
   "id": "6cbb5c09",
   "metadata": {},
   "outputs": [
    {
     "name": "stdout",
     "output_type": "stream",
     "text": [
      "List Trainer: [####################] 100%\n"
     ]
    }
   ],
   "source": [
    "chatbot = ChatBot(\"BotCaramelo\", tagger_language=ENGSM)\n",
    "\n",
    "conversa = [\n",
    "    \"Olá, BotCaramelo!\",\n",
    "    \"Olá, em que posso ajudar?\",\n",
    "    \"Eu adotei um filhote de cachorro recentemente e estou um pouco perdido.\",\n",
    "    \"Parabéns pela sua adoção, de que assuntos você tem interesse em saber? Posso te ajudar com dicas de vacinação, alimentação, higiene e etc.\",\n",
    "    \"Como devo alimentá-lo e em que frequência?\",\n",
    "    \"Para filhotes, é importante alimentá-los com ração própria para a idade deles. Geralmente, segue-se a orientação na embalagem, mas é ideal consultar um veterinário para determinar a quantidade e o tipo ideal de ração para o seu filhote. Normalmente, recomenda-se alimentar filhotes pequenos de 3 a 4 vezes ao dia.\",\n",
    "    \"Entendi. E quanto aos cuidados de higiene e banho?\",\n",
    "    \"Banho: Use shampoo suave e específico para filhotes, evitando os olhos, nariz e ouvidos. Não é necessário banhá-los com muita frequência. Escovação: Escove o pelo regularmente para prevenir emaranhados e estimular a circulação sanguínea. Higiene dental: Escove os dentes do filhote com pasta de dente própria para cães para prevenir problemas dentários. Corte de unhas: Mantenha as unhas curtas para evitar machucados. Se não souber como cortar, peça orientação ao veterinário. Limpeza das orelhas: Verifique as orelhas regularmente e use uma solução de limpeza recomendada pelo veterinário para higienizá-las. Ambiente limpo: Mantenha a área do filhote limpa, lavando a cama e os brinquedos regularmente.Vacinação e desparasitação: Siga o calendário recomendado pelo veterinário para prevenir infestações por parasitas e doenças.\"\n",
    "    \"Obrigado, BotCaramelo!\",\n",
    "    \"Fico feliz em ajudar! Se surgir mais alguma dúvida, não hesite em me chamar. E lembre-se, o amor e a atenção são sempre essenciais para o bem-estar do seu filhote. Ah, e obrigado por escolher a adoção responsável! A Unipatas está sempre aqui para auxiliá-lo no processo de cuidar do seu novo amigo.\",\n",
    "]\n",
    "\n",
    "trainer = ListTrainer(chatbot)\n",
    "trainer.train(conversa)"
   ]
  },
  {
   "cell_type": "code",
   "execution_count": 3,
   "id": "6e254a2b",
   "metadata": {},
   "outputs": [
    {
     "data": {
      "text/plain": [
       "<Statement text:Parabéns pela sua adoção, de que assuntos você tem interesse em saber? Posso te ajudar com dicas de vacinação, alimentação, higiene e etc.>"
      ]
     },
     "execution_count": 3,
     "metadata": {},
     "output_type": "execute_result"
    }
   ],
   "source": [
    "chatbot.get_response(\"Eu adotei um filhote de cachorro recentemente e estou perdido\")"
   ]
  },
  {
   "cell_type": "code",
   "execution_count": 4,
   "id": "f0b7ffd5",
   "metadata": {},
   "outputs": [
    {
     "name": "stdout",
     "output_type": "stream",
     "text": [
      "Mande uma mensagem para o BotCaramelo:Ola botcaramelo\n",
      "Olá, em que posso ajudar?\n",
      "Mande uma mensagem para o BotCaramelo:parar\n"
     ]
    }
   ],
   "source": [
    "while True:\n",
    "    mensagem = input(\"Mande uma mensagem para o BotCaramelo:\")\n",
    "    if mensagem == \"parar\":\n",
    "        break\n",
    "    resposta = chatbot.get_response(mensagem)\n",
    "    print(resposta)"
   ]
  },
  {
   "cell_type": "code",
   "execution_count": 8,
   "id": "12488f37",
   "metadata": {},
   "outputs": [],
   "source": [
    "# comando para limpar a base de dados do chatbot \n",
    "#chatbot.storage.drop()"
   ]
  }
 ],
 "metadata": {
  "kernelspec": {
   "display_name": "Python 3",
   "language": "python",
   "name": "python3"
  },
  "language_info": {
   "codemirror_mode": {
    "name": "ipython",
    "version": 3
   },
   "file_extension": ".py",
   "mimetype": "text/x-python",
   "name": "python",
   "nbconvert_exporter": "python",
   "pygments_lexer": "ipython3",
   "version": "3.6.13"
  }
 },
 "nbformat": 4,
 "nbformat_minor": 5
}
